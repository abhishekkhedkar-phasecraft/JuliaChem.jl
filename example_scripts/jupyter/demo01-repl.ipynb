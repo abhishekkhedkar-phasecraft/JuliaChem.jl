{
 "cells": [
  {
   "cell_type": "markdown",
   "metadata": {},
   "source": [
    "The first step of running JuliaChem.jl is importing the JuliaChem module. As the JuliaChem.jl package is not yet registered, this will require either downloading JuliaChem.jl locally, or adding the JuliaChem.jl GitHub repository to Pkg."
   ]
  },
  {
   "cell_type": "code",
   "execution_count": 1,
   "metadata": {},
   "outputs": [],
   "source": [
    "import JuliaChem"
   ]
  },
  {
   "cell_type": "markdown",
   "metadata": {},
   "source": [
    "The next step in running JuliaChem.jl is to initialize the JuliaChem.jl runtime. The JuliaChem.jl runtime is rather small, and consists entirely of the runtimes of underlying dependencies - MPI and Libint."
   ]
  },
  {
   "cell_type": "code",
   "execution_count": 2,
   "metadata": {},
   "outputs": [],
   "source": [
    "JuliaChem.initialize()"
   ]
  },
  {
   "cell_type": "markdown",
   "metadata": {},
   "source": [
    "The third step in running JuliaChem.jl is processing input data. The input data can be divided into four parts - molecule data, driver data, general calculation data, and method keywords. These four parts are inspired by the QCSchema input scheme proposed by the Molecular Software Sciences Institute (MolSSI). More information about QCSchema can be seen at https://molssi-qc-schema.readthedocs.io/en/latest/.\n",
    "\n",
    "The first facet of the input data is molecule data. The molecule data object is a dictionary which contains information about the geometric coordinates of the system, the atomic symbols of the atoms contained within the system, and the charge of the system."
   ]
  },
  {
   "cell_type": "code",
   "execution_count": 3,
   "metadata": {},
   "outputs": [
    {
     "data": {
      "text/plain": [
       "Dict{String,Any} with 3 entries:\n",
       "  \"symbols\"          => [\"O\", \"O\", \"O\", \"C\", \"C\", \"C\", \"C\", \"C\", \"H\", \"H\", \"H\",…\n",
       "  \"molecular_charge\" => 0\n",
       "  \"geometry\"         => [6.41107, 6.98114, 7.50154, 8.5889, 6.98114, 7.50155, 7…"
      ]
     },
     "execution_count": 3,
     "metadata": {},
     "output_type": "execute_result"
    }
   ],
   "source": [
    " molecule = Dict(\n",
    "    \"geometry\" => Vector{Float64}(\n",
    "        [6.411074, 6.98113527, 7.50153528, \n",
    "         8.58890491, 6.98113661, 7.50155471, \n",
    "         7.49999228, 8.99273439, 7.50048164,\n",
    "         5.12657866, 7.67324656, 7.50050593,\n",
    "         9.87339214, 7.67326459, 7.50052055, \n",
    "         4.03436324, 6.62280412, 7.50050212, \n",
    "         10.96562395, 6.622837, 7.50057313, \n",
    "         7.49998869, 7.78034564, 7.50103519, \n",
    "         5.07458205, 8.31139671, 8.38483323, \n",
    "         5.07545663, 8.31036431, 6.61534488, \n",
    "         9.92452108, 8.31035589, 6.61534048, \n",
    "         9.92536586, 8.31145461, 8.38481702, \n",
    "         3.06384833, 7.12321056, 7.49968166, \n",
    "         4.09226473, 5.9907205, 6.61268538, \n",
    "         4.09139631, 5.9916493, 8.38903225, \n",
    "         11.93614728, 7.12323036, 7.49976917, \n",
    "         10.90856595, 5.99169283, 8.38910716, \n",
    "         10.90774268, 5.99073288, 6.61276896]\n",
    "        ),\n",
    "    \"symbols\" => Vector{String}([\"O\", \"O\", \"O\", \"C\", \"C\", \"C\", \"C\", \"C\", \"H\", \"H\", \"H\", \"H\", \"H\", \"H\", \"H\", \"H\", \"H\", \"H\"]),\n",
    "    \"molecular_charge\" => zero(Int64)\n",
    ")"
   ]
  },
  {
   "cell_type": "markdown",
   "metadata": {},
   "source": [
    "Molecule information contained in an xyz file can be read in and processed automatically.\n"
   ]
  },
  {
   "cell_type": "code",
   "execution_count": 4,
   "metadata": {},
   "outputs": [
    {
     "data": {
      "text/plain": [
       "Dict{String,Any} with 3 entries:\n",
       "  \"symbols\"          => Any[\"O\", \"O\", \"O\", \"C\", \"C\", \"C\", \"C\", \"C\", \"H\", \"H\", \"…\n",
       "  \"molecular_charge\" => 0\n",
       "  \"geometry\"         => Any[6.41107, 6.98114, 7.50154, 8.5889, 6.98114, 7.50155…"
      ]
     },
     "execution_count": 4,
     "metadata": {},
     "output_type": "execute_result"
    }
   ],
   "source": [
    "molecule = JuliaChem.JCInput.xyz_to_molecule(\"C5H10O3.xyz\")"
   ]
  },
  {
   "cell_type": "markdown",
   "metadata": {},
   "source": [
    "The second facet of the input data is driver data. The driver data object is a String that dictates what type of calculation is performed. This is included for completeness with respect to the QCSchema, but it is not strictly necessary currently."
   ]
  },
  {
   "cell_type": "code",
   "execution_count": 5,
   "metadata": {},
   "outputs": [
    {
     "data": {
      "text/plain": [
       "\"energy\""
      ]
     },
     "execution_count": 5,
     "metadata": {},
     "output_type": "execute_result"
    }
   ],
   "source": [
    "driver = \"energy\""
   ]
  },
  {
   "cell_type": "markdown",
   "metadata": {},
   "source": [
    "The third facet of the input data is general calculation data. The calculation data object is a dictionary that contains information about the specific method used for the calculation, and the basis set chosen for the calculation.\n",
    "\n",
    "Currently, only the Restricted Hartree-Fock (RHF) method is supported as a method. As for basis sets, a reasonable number of Pople basis sets are supported, going up to Pople basis sets with f-shell inclusion. "
   ]
  },
  {
   "cell_type": "code",
   "execution_count": 6,
   "metadata": {},
   "outputs": [
    {
     "data": {
      "text/plain": [
       "Dict{String,String} with 2 entries:\n",
       "  \"method\" => \"RHF\"\n",
       "  \"basis\"  => \"6-31+G*\""
      ]
     },
     "execution_count": 6,
     "metadata": {},
     "output_type": "execute_result"
    }
   ],
   "source": [
    "model = Dict(\n",
    "  \"method\" => \"RHF\",\n",
    "  \"basis\" => \"6-31+G*\"\n",
    ")"
   ]
  },
  {
   "cell_type": "markdown",
   "metadata": {},
   "source": [
    "The final facet of the input data is the calculation keywords. The calculation keywords object is a dictionary that contains releavnt keywords controlling specifics of each step of the calculation. \n",
    "\n",
    "Keywords pertaining to the calculation of RHF energies are contained in the \"scf\" subgroup. Keywords pertaining to the computation of RHF molecular properties are contained in the \"prop\" subgroup. Not specifying a specific keyword automatically uses the default value for that keyword."
   ]
  },
  {
   "cell_type": "code",
   "execution_count": 7,
   "metadata": {},
   "outputs": [
    {
     "data": {
      "text/plain": [
       "Dict{String,Dict{K,Any} where K} with 2 entries:\n",
       "  \"prop\" => Dict{String,Any}(\"mulliken\"=>true,\"formation\"=>true,\"multipole\"=>\"d…\n",
       "  \"scf\"  => Dict{Any,Any}()"
      ]
     },
     "execution_count": 7,
     "metadata": {},
     "output_type": "execute_result"
    }
   ],
   "source": [
    "keywords = Dict(\n",
    "  \"scf\" => Dict(),\n",
    "  \"prop\" => Dict(\n",
    "    \"formation\" => true,\n",
    "    \"mo energies\" => true,\n",
    "    \"mulliken\" => true,\n",
    "    \"multipole\" => \"dipole\"\n",
    "  )\n",
    ")"
   ]
  },
  {
   "cell_type": "markdown",
   "metadata": {},
   "source": [
    "The fourth step of running JuliaChem.jl is processing the input information to create basis set and molecule objects. These basis set and molecule objects are heavily used throughout the calculations that JuliaChem.jl performs. The basis set object contains information about the basis set shells, such as exponents and contraction coefficients, acquired from the Basis Set Exchange project created by MolSSI. This information is palatable to both JuliaChem.jl and the underlying Libint interface. The molecule object contains information about the coordinates and atoms within the system, also palatable to both JuliaChem.jl and the underlying Libint interface. \n",
    "\n",
    "This step requires the molecule and model dictionary input objects defined earlier as inputs. Additionally, an optional keyword input controlling the verbosity of the output can be input. By default, no output text is generated. "
   ]
  },
  {
   "cell_type": "code",
   "execution_count": 8,
   "metadata": {},
   "outputs": [
    {
     "data": {
      "text/plain": [
       "(JuliaChem.JCModules.Molecule(JuliaChem.JCModules.Atom[JuliaChem.JCModules.Atom(8, \"O\", [-2.0577523836046723, -0.8231734582792019, 0.0013299263825548024]), JuliaChem.JCModules.Atom(8, \"O\", [2.057751283886292, -0.8231709260463802, 0.0013666437584962665]), JuliaChem.JCModules.Atom(8, \"O\", [4.788616724482608e-6, 2.978197675663237, -0.0006611645071483707]), JuliaChem.JCModules.Atom(6, \"C\", [-4.4850966087103075, 0.4847272328295027, -0.0006152630629063793]), JuliaChem.JCModules.Atom(6, \"C\", [4.485080183314169, 0.4847613045890604, -0.0005876352689657693]), JuliaChem.JCModules.Atom(6, \"C\", [-6.549084472074862, -1.5003211446444666, -0.0006224629189190978]), JuliaChem.JCModules.Atom(6, \"C\", [6.549099019287661, -1.5002590104539895, -0.0004882734765310204]), JuliaChem.JCModules.Atom(6, \"C\", [-1.995499570028869e-6, 0.6871151475666064, 0.00038489331335433974]), JuliaChem.JCModules.Atom(1, \"H\", [-4.583355953900746, 1.6906561553531123, 1.6705210173990057]), JuliaChem.JCModules.Atom(1, \"H\", [-4.581703237346405, 1.6887052022433888, -1.6733271025670806]), JuliaChem.JCModules.Atom(1, \"H\", [4.581699869956841, 1.6886892907505704, -1.673335417361427]), JuliaChem.JCModules.Atom(1, \"H\", [4.583296272676746, 1.6907655704878, 1.670490384940745]), JuliaChem.JCModules.Atom(1, \"H\", [-8.383091718973413, -0.5546900905530823, -0.002172907502805188]), JuliaChem.JCModules.Atom(1, \"H\", [-6.439666521694044, -2.6947859877717786, -1.678352828831427]), JuliaChem.JCModules.Atom(1, \"H\", [-6.441307597536301, -2.6930308102743847, 1.6784560146159695]), JuliaChem.JCModules.Atom(1, \"H\", [8.383122177679029, -0.5546526739785254, -0.00200753758161909]), JuliaChem.JCModules.Atom(1, \"H\", [6.441275033880226, -2.6929485505021376, 1.6785975739897108]), JuliaChem.JCModules.Atom(1, \"H\", [6.439719279166317, -2.69476259296405, -1.6781948855333741])], JuliaChem.JERI.Atom[JuliaChem.JERI.AtomDereferenced(Ptr{Nothing} @0x00000000037854d0), JuliaChem.JERI.AtomDereferenced(Ptr{Nothing} @0x00000000037854f0), JuliaChem.JERI.AtomDereferenced(Ptr{Nothing} @0x0000000003785510), JuliaChem.JERI.AtomDereferenced(Ptr{Nothing} @0x0000000003785530), JuliaChem.JERI.AtomDereferenced(Ptr{Nothing} @0x0000000003785550), JuliaChem.JERI.AtomDereferenced(Ptr{Nothing} @0x0000000003785570), JuliaChem.JERI.AtomDereferenced(Ptr{Nothing} @0x0000000003785590), JuliaChem.JERI.AtomDereferenced(Ptr{Nothing} @0x00000000037855b0), JuliaChem.JERI.AtomDereferenced(Ptr{Nothing} @0x00000000037855d0), JuliaChem.JERI.AtomDereferenced(Ptr{Nothing} @0x00000000037855f0), JuliaChem.JERI.AtomDereferenced(Ptr{Nothing} @0x0000000003785610), JuliaChem.JERI.AtomDereferenced(Ptr{Nothing} @0x0000000003785630), JuliaChem.JERI.AtomDereferenced(Ptr{Nothing} @0x0000000003785650), JuliaChem.JERI.AtomDereferenced(Ptr{Nothing} @0x0000000003785670), JuliaChem.JERI.AtomDereferenced(Ptr{Nothing} @0x0000000003785690), JuliaChem.JERI.AtomDereferenced(Ptr{Nothing} @0x00000000037856b0), JuliaChem.JERI.AtomDereferenced(Ptr{Nothing} @0x00000000037856d0), JuliaChem.JERI.AtomDereferenced(Ptr{Nothing} @0x00000000037856f0)]), JuliaChem.JCModules.Basis(JuliaChem.JCModules.Shell[JuliaChem.JCModules.Shell(1, 1, 8, [5484.67166, 825.234946, 188.046958, 52.9645, 16.8975704, 5.79963534, 0.0, 0.0, 0.0, 0.0, 0.0, 0.0], [0.8317236780463337, 1.5308155627660587, 2.4771485422918578, 3.256281095763484, 2.7928933738950428, 0.9549376774307774, 0.0, 0.0, 0.0, 0.0  …  0.0, 0.0, 0.0, 0.0, 0.0, 0.0, 0.0, 0.0, 0.0, 0.0], [-2.0577523836046723, -0.8231734582792019, 0.0013299263825548024], Cstring(0x00007fbe74a682d8), 1, 1, 6, 1, 0), JuliaChem.JCModules.Shell(2, 1, 8, [15.53961625, 3.599933586, 1.01376175, 0.0, 0.0, 0.0, 0.0, 0.0, 0.0, 0.0, 0.0, 0.0], [-0.6179339598709542, -0.27572092902126205, 0.8142075953005073, 0.0, 0.0, 0.0, 0.0, 0.0, 0.0, 0.0  …  0.0, 0.0, 0.0, 0.0, 0.0, 0.0, 0.0, 0.0, 0.0, 0.0], [-2.0577523836046723, -0.8231734582792019, 0.0013299263825548024], Cstring(0x00007fbe74a682d8), 1, 1, 3, 2, 0), JuliaChem.JCModules.Shell(3, 1, 8, [15.53961625, 3.599933586, 1.01376175, 0.0, 0.0, 0.0, 0.0, 0.0, 0.0, 0.0, 0.0, 0.0], [3.1169442744439153, 2.401437528482315, 1.054360422192112, 0.0, 0.0, 0.0, 0.0, 0.0, 0.0, 0.0  …  0.0, 0.0, 0.0, 0.0, 0.0, 0.0, 0.0, 0.0, 0.0, 0.0], [-2.0577523836046723, -0.8231734582792019, 0.0013299263825548024], Cstring(0x00007fbe74a682f8), 2, 3, 3, 3, 0), JuliaChem.JCModules.Shell(4, 1, 8, [0.2700058226, 0.0, 0.0, 0.0, 0.0, 0.0, 0.0, 0.0, 0.0, 0.0, 0.0, 0.0], [0.2669561556164354, 0.0, 0.0, 0.0, 0.0, 0.0, 0.0, 0.0, 0.0, 0.0  …  0.0, 0.0, 0.0, 0.0, 0.0, 0.0, 0.0, 0.0, 0.0, 0.0], [-2.0577523836046723, -0.8231734582792019, 0.0013299263825548024], Cstring(0x00007fbe74a682d8), 1, 1, 1, 6, 0), JuliaChem.JCModules.Shell(5, 1, 8, [0.2700058226, 0.0, 0.0, 0.0, 0.0, 0.0, 0.0, 0.0, 0.0, 0.0, 0.0, 0.0], [0.2774319663400408, 0.0, 0.0, 0.0, 0.0, 0.0, 0.0, 0.0, 0.0, 0.0  …  0.0, 0.0, 0.0, 0.0, 0.0, 0.0, 0.0, 0.0, 0.0, 0.0], [-2.0577523836046723, -0.8231734582792019, 0.0013299263825548024], Cstring(0x00007fbe74a682f8), 2, 3, 1, 7, 0), JuliaChem.JCModules.Shell(6, 1, 8, [0.8, 0.0, 0.0, 0.0, 0.0, 0.0, 0.0, 0.0, 0.0, 0.0, 0.0, 0.0], [1.1138249280646129, 0.0, 0.0, 0.0, 0.0, 0.0, 0.0, 0.0, 0.0, 0.0  …  0.0, 0.0, 0.0, 0.0, 0.0, 0.0, 0.0, 0.0, 0.0, 0.0], [-2.0577523836046723, -0.8231734582792019, 0.0013299263825548024], Cstring(0x00007fbe74a68318), 3, 6, 1, 10, 0), JuliaChem.JCModules.Shell(7, 1, 8, [0.0845, 0.0, 0.0, 0.0, 0.0, 0.0, 0.0, 0.0, 0.0, 0.0, 0.0, 0.0], [0.11169985875271767, 0.0, 0.0, 0.0, 0.0, 0.0, 0.0, 0.0, 0.0, 0.0  …  0.0, 0.0, 0.0, 0.0, 0.0, 0.0, 0.0, 0.0, 0.0, 0.0], [-2.0577523836046723, -0.8231734582792019, 0.0013299263825548024], Cstring(0x00007fbe74a682d8), 1, 1, 1, 16, 0), JuliaChem.JCModules.Shell(8, 1, 8, [0.0845, 0.0, 0.0, 0.0, 0.0, 0.0, 0.0, 0.0, 0.0, 0.0, 0.0, 0.0], [0.06493980408453241, 0.0, 0.0, 0.0, 0.0, 0.0, 0.0, 0.0, 0.0, 0.0  …  0.0, 0.0, 0.0, 0.0, 0.0, 0.0, 0.0, 0.0, 0.0, 0.0], [-2.0577523836046723, -0.8231734582792019, 0.0013299263825548024], Cstring(0x00007fbe74a682f8), 2, 3, 1, 17, 0), JuliaChem.JCModules.Shell(9, 2, 8, [5484.67166, 825.234946, 188.046958, 52.9645, 16.8975704, 5.79963534, 0.0, 0.0, 0.0, 0.0, 0.0, 0.0], [0.8317236780463337, 1.5308155627660587, 2.4771485422918578, 3.256281095763484, 2.7928933738950428, 0.9549376774307774, 0.0, 0.0, 0.0, 0.0  …  0.0, 0.0, 0.0, 0.0, 0.0, 0.0, 0.0, 0.0, 0.0, 0.0], [2.057751283886292, -0.8231709260463802, 0.0013666437584962665], Cstring(0x00007fbe74a682d8), 1, 1, 6, 20, 0), JuliaChem.JCModules.Shell(10, 2, 8, [15.53961625, 3.599933586, 1.01376175, 0.0, 0.0, 0.0, 0.0, 0.0, 0.0, 0.0, 0.0, 0.0], [-0.6179339598709542, -0.27572092902126205, 0.8142075953005073, 0.0, 0.0, 0.0, 0.0, 0.0, 0.0, 0.0  …  0.0, 0.0, 0.0, 0.0, 0.0, 0.0, 0.0, 0.0, 0.0, 0.0], [2.057751283886292, -0.8231709260463802, 0.0013666437584962665], Cstring(0x00007fbe74a682d8), 1, 1, 3, 21, 0)  …  JuliaChem.JCModules.Shell(75, 14, 1, [18.73113696, 2.825394365, 0.6401216923, 0.0, 0.0, 0.0, 0.0, 0.0, 0.0, 0.0, 0.0, 0.0], [0.21493544889215385, 0.3645712021918747, 0.4150514278318946, 0.0, 0.0, 0.0, 0.0, 0.0, 0.0, 0.0  …  0.0, 0.0, 0.0, 0.0, 0.0, 0.0, 0.0, 0.0, 0.0, 0.0], [-6.439666521694044, -2.6947859877717786, -1.678352828831427], Cstring(0x00007fbe74a682d8), 1, 1, 3, 163, 0), JuliaChem.JCModules.Shell(76, 14, 1, [0.1612777588, 0.0, 0.0, 0.0, 0.0, 0.0, 0.0, 0.0, 0.0, 0.0, 0.0, 0.0], [0.18138064917865246, 0.0, 0.0, 0.0, 0.0, 0.0, 0.0, 0.0, 0.0, 0.0  …  0.0, 0.0, 0.0, 0.0, 0.0, 0.0, 0.0, 0.0, 0.0, 0.0], [-6.439666521694044, -2.6947859877717786, -1.678352828831427], Cstring(0x00007fbe74a682d8), 1, 1, 1, 164, 0), JuliaChem.JCModules.Shell(77, 15, 1, [18.73113696, 2.825394365, 0.6401216923, 0.0, 0.0, 0.0, 0.0, 0.0, 0.0, 0.0, 0.0, 0.0], [0.21493544889215385, 0.3645712021918747, 0.4150514278318946, 0.0, 0.0, 0.0, 0.0, 0.0, 0.0, 0.0  …  0.0, 0.0, 0.0, 0.0, 0.0, 0.0, 0.0, 0.0, 0.0, 0.0], [-6.441307597536301, -2.6930308102743847, 1.6784560146159695], Cstring(0x00007fbe74a682d8), 1, 1, 3, 165, 0), JuliaChem.JCModules.Shell(78, 15, 1, [0.1612777588, 0.0, 0.0, 0.0, 0.0, 0.0, 0.0, 0.0, 0.0, 0.0, 0.0, 0.0], [0.18138064917865246, 0.0, 0.0, 0.0, 0.0, 0.0, 0.0, 0.0, 0.0, 0.0  …  0.0, 0.0, 0.0, 0.0, 0.0, 0.0, 0.0, 0.0, 0.0, 0.0], [-6.441307597536301, -2.6930308102743847, 1.6784560146159695], Cstring(0x00007fbe74a682d8), 1, 1, 1, 166, 0), JuliaChem.JCModules.Shell(79, 16, 1, [18.73113696, 2.825394365, 0.6401216923, 0.0, 0.0, 0.0, 0.0, 0.0, 0.0, 0.0, 0.0, 0.0], [0.21493544889215385, 0.3645712021918747, 0.4150514278318946, 0.0, 0.0, 0.0, 0.0, 0.0, 0.0, 0.0  …  0.0, 0.0, 0.0, 0.0, 0.0, 0.0, 0.0, 0.0, 0.0, 0.0], [8.383122177679029, -0.5546526739785254, -0.00200753758161909], Cstring(0x00007fbe74a682d8), 1, 1, 3, 167, 0), JuliaChem.JCModules.Shell(80, 16, 1, [0.1612777588, 0.0, 0.0, 0.0, 0.0, 0.0, 0.0, 0.0, 0.0, 0.0, 0.0, 0.0], [0.18138064917865246, 0.0, 0.0, 0.0, 0.0, 0.0, 0.0, 0.0, 0.0, 0.0  …  0.0, 0.0, 0.0, 0.0, 0.0, 0.0, 0.0, 0.0, 0.0, 0.0], [8.383122177679029, -0.5546526739785254, -0.00200753758161909], Cstring(0x00007fbe74a682d8), 1, 1, 1, 168, 0), JuliaChem.JCModules.Shell(81, 17, 1, [18.73113696, 2.825394365, 0.6401216923, 0.0, 0.0, 0.0, 0.0, 0.0, 0.0, 0.0, 0.0, 0.0], [0.21493544889215385, 0.3645712021918747, 0.4150514278318946, 0.0, 0.0, 0.0, 0.0, 0.0, 0.0, 0.0  …  0.0, 0.0, 0.0, 0.0, 0.0, 0.0, 0.0, 0.0, 0.0, 0.0], [6.441275033880226, -2.6929485505021376, 1.6785975739897108], Cstring(0x00007fbe74a682d8), 1, 1, 3, 169, 0), JuliaChem.JCModules.Shell(82, 17, 1, [0.1612777588, 0.0, 0.0, 0.0, 0.0, 0.0, 0.0, 0.0, 0.0, 0.0, 0.0, 0.0], [0.18138064917865246, 0.0, 0.0, 0.0, 0.0, 0.0, 0.0, 0.0, 0.0, 0.0  …  0.0, 0.0, 0.0, 0.0, 0.0, 0.0, 0.0, 0.0, 0.0, 0.0], [6.441275033880226, -2.6929485505021376, 1.6785975739897108], Cstring(0x00007fbe74a682d8), 1, 1, 1, 170, 0), JuliaChem.JCModules.Shell(83, 18, 1, [18.73113696, 2.825394365, 0.6401216923, 0.0, 0.0, 0.0, 0.0, 0.0, 0.0, 0.0, 0.0, 0.0], [0.21493544889215385, 0.3645712021918747, 0.4150514278318946, 0.0, 0.0, 0.0, 0.0, 0.0, 0.0, 0.0  …  0.0, 0.0, 0.0, 0.0, 0.0, 0.0, 0.0, 0.0, 0.0, 0.0], [6.439719279166317, -2.69476259296405, -1.6781948855333741], Cstring(0x00007fbe74a682d8), 1, 1, 3, 171, 0), JuliaChem.JCModules.Shell(84, 18, 1, [0.1612777588, 0.0, 0.0, 0.0, 0.0, 0.0, 0.0, 0.0, 0.0, 0.0, 0.0, 0.0], [0.18138064917865246, 0.0, 0.0, 0.0, 0.0, 0.0, 0.0, 0.0, 0.0, 0.0  …  0.0, 0.0, 0.0, 0.0, 0.0, 0.0, 0.0, 0.0, 0.0, 0.0], [6.439719279166317, -2.69476259296405, -1.6781948855333741], Cstring(0x00007fbe74a682d8), 1, 1, 1, 172, 0)], JuliaChem.JERI.BasisSetAllocated(Ptr{Nothing} @0x0000000004d73ac0), JuliaChem.JERI.ShellPair[JuliaChem.JERI.ShellPairDereferenced(Ptr{Nothing} @0x0000000005078b80), JuliaChem.JERI.ShellPairDereferenced(Ptr{Nothing} @0x0000000005078bb0), JuliaChem.JERI.ShellPairDereferenced(Ptr{Nothing} @0x0000000005078be0), JuliaChem.JERI.ShellPairDereferenced(Ptr{Nothing} @0x0000000005078c10), JuliaChem.JERI.ShellPairDereferenced(Ptr{Nothing} @0x0000000005078c40), JuliaChem.JERI.ShellPairDereferenced(Ptr{Nothing} @0x0000000005078c70), JuliaChem.JERI.ShellPairDereferenced(Ptr{Nothing} @0x0000000005078ca0), JuliaChem.JERI.ShellPairDereferenced(Ptr{Nothing} @0x0000000005078cd0), JuliaChem.JERI.ShellPairDereferenced(Ptr{Nothing} @0x0000000005078d00), JuliaChem.JERI.ShellPairDereferenced(Ptr{Nothing} @0x0000000005078d30)  …  JuliaChem.JERI.ShellPairDereferenced(Ptr{Nothing} @0x00000000050a2700), JuliaChem.JERI.ShellPairDereferenced(Ptr{Nothing} @0x00000000050a2730), JuliaChem.JERI.ShellPairDereferenced(Ptr{Nothing} @0x00000000050a2760), JuliaChem.JERI.ShellPairDereferenced(Ptr{Nothing} @0x00000000050a2790), JuliaChem.JERI.ShellPairDereferenced(Ptr{Nothing} @0x00000000050a27c0), JuliaChem.JERI.ShellPairDereferenced(Ptr{Nothing} @0x00000000050a27f0), JuliaChem.JERI.ShellPairDereferenced(Ptr{Nothing} @0x00000000050a2820), JuliaChem.JERI.ShellPairDereferenced(Ptr{Nothing} @0x00000000050a2850), JuliaChem.JERI.ShellPairDereferenced(Ptr{Nothing} @0x00000000050a2880), JuliaChem.JERI.ShellPairDereferenced(Ptr{Nothing} @0x00000000050a28b0)], \"6-31+G*\", 172, 64))"
      ]
     },
     "execution_count": 8,
     "metadata": {},
     "output_type": "execute_result"
    }
   ],
   "source": [
    "mol, basis = JuliaChem.JCBasis.run(molecule, model; output=0)"
   ]
  },
  {
   "cell_type": "markdown",
   "metadata": {},
   "source": [
    "The fifth step of running JuliaChem is running the bulk of the calculation. For now, this will consist of running RHF energy calculations and a couple of RHF property calculations, such as Mulliken charges. New functionalities such as gradients and more propery computations are also planned on being added. Certain properties require gradients and Hessians, both of which are currently being worked on.\n",
    "\n",
    "When performing energy calculations, the molecule and basis set objects created in Step #4 are required; additionally, the scf keywords from the keywords input data are required. As before, there is an optional verbosity keyword to control print output. The verbosity output defaults to 0 (none), but we have elected to set it to 2 (verbose) here. The return value object from an RHF energy calculation contains a variety of information - the RHF energy of the system, the final Fock and Density matrices, the final molecular orbital coefficients, and whether the calculation converged or not.\n",
    "\n",
    "When performing property calculations, the molecule and basis set objects created in Step #4 are required; additionally, the property keywords from the keywords input data are required. Finally, the information provided by the RHF energy calculation is required. As before, there is an optional verbosity keyword to control print output. The verbosity output defaults to 0 (none), but we have elected to set it to 2 (verbose) here. The return value object from an RHF property calculation contains information regarding the properties specified by the user, which can include the following: Molecular orbital energies, HOMO-LUMO gap, energy of formation, dipole moment, Mulliken property analysis, and Mulliken charges on each atom."
   ]
  },
  {
   "cell_type": "code",
   "execution_count": 9,
   "metadata": {
    "scrolled": true
   },
   "outputs": [
    {
     "name": "stdout",
     "output_type": "stream",
     "text": [
      "--------------------------------------------------------------------------------\n",
      "                       ========================================                 \n",
      "                                RESTRICTED CLOSED-SHELL                         \n",
      "                                  HARTREE-FOCK ENERGY                           \n",
      "                       ========================================                 \n",
      "\n",
      "----------------------------------------          \n",
      "       Starting RHF iterations...                 \n",
      "----------------------------------------          \n",
      " \n",
      "Iter        Energy                ΔE                Drms\n",
      "1      -431.6912754170      -431.6912754170      5.2091527074\n",
      "2      -417.2123853728      14.4788900442      1.9666757133\n",
      "3      -419.0114022886      -1.7990169158      0.4838143224\n",
      "4      -419.8750190425      -0.8636167538      0.6249240834\n",
      "5      -419.7556087147      0.1194103278      0.1361743351\n",
      "6      -419.7748249008      -0.0192161862      0.0770771059\n",
      "7      -419.7875654227      -0.0127405218      0.0275493433\n",
      "8      -419.7829188335      0.0046465891      0.0106466412\n",
      "9      -419.7823828453      0.0005359882      0.0046101490\n",
      "10      -419.7837930593      -0.0014102139      0.0014574157\n",
      "11      -419.7830149843      0.0007780749      0.0003863252\n",
      "12      -419.7831991378      -0.0001841534      0.0001184247\n",
      "13      -419.7832106015      -0.0000114637      0.0000433545\n",
      "14      -419.7831907905      0.0000198110      0.0000088282\n",
      "15      -419.7831983000      -0.0000075095      0.0000033583\n",
      "16      -419.7831977903      0.0000005097      0.0000010348\n",
      "17      -419.7831971020      0.0000006882      0.0000002802\n",
      " \n",
      "----------------------------------------\n",
      "   The SCF calculation has converged!   \n",
      "----------------------------------------\n",
      "Total SCF Energy: -419.7831971020 h\n",
      " \n",
      "                       ========================================                 \n",
      "                              END RESTRICTED CLOSED-SHELL                       \n",
      "                                  HARTREE-FOCK ENERGY                           \n",
      "                       ========================================                 \n",
      "--------------------------------------------------------------------------------\n"
     ]
    },
    {
     "data": {
      "text/plain": [
       "Dict{String,Any} with 7 entries:\n",
       "  \"Energy-Weighted Density\" => [-40.9239 -0.576819 … 7.21834e-5 -0.00231137; -0…\n",
       "  \"Energy\"                  => -419.783\n",
       "  \"Fock\"                    => [-20.6123 -5.14216 … -8.1131e-7 -1.14056e-5; -5.…\n",
       "  \"MO Coeff\"                => [0.702026 0.704559 … -0.348658 0.23659; 0.014933…\n",
       "  \"Density\"                 => [2.07868 -0.18127 … 0.000421158 -0.000413971; -0…\n",
       "  \"Overlap\"                 => [1.0 0.23369 … 3.03086e-21 4.68662e-7; 0.23369 1…\n",
       "  \"Converged?\"              => true"
      ]
     },
     "execution_count": 9,
     "metadata": {},
     "output_type": "execute_result"
    }
   ],
   "source": [
    "rhf_energy = JuliaChem.JCRHF.Energy.run(mol, basis, keywords[\"scf\"]; output=2)"
   ]
  },
  {
   "cell_type": "code",
   "execution_count": 10,
   "metadata": {},
   "outputs": [
    {
     "name": "stdout",
     "output_type": "stream",
     "text": [
      "--------------------------------------------------------------------------------\n",
      "                       ========================================                 \n",
      "                                RESTRICTED CLOSED-SHELL                         \n",
      "                                HARTREE-FOCK PROPERTIES                         \n",
      "                       ========================================                 \n",
      "\n",
      "----------------------------------------          \n",
      " Computing molecular orbital energies...           \n",
      "----------------------------------------          \n",
      " \n",
      "Orbital #     Orbital energy (h)\n",
      "    1           -20.618393    \n",
      "    2           -20.618368    \n",
      "    3           -20.563063    \n",
      "    4           -11.440550    \n",
      "    5           -11.298192    \n",
      "    6           -11.298188    \n",
      "    7           -11.230291    \n",
      "    8           -11.230289    \n",
      "    9           -1.496854    \n",
      "    10           -1.391222    \n",
      "    11           -1.364165    \n",
      "    12           -1.058661    \n",
      "    13           -1.029968    \n",
      "    14           -0.897116    \n",
      "    15           -0.848929    \n",
      "    16           -0.790909    \n",
      "    17           -0.743844    \n",
      "    18           -0.705136    \n",
      "    19           -0.691559    \n",
      "    20           -0.663082    \n",
      "    21           -0.602176    \n",
      "    22           -0.598731    \n",
      "    23           -0.592379    \n",
      "    24           -0.557947    \n",
      "    25           -0.544211    \n",
      "    26           -0.540351    \n",
      "    27           -0.521397    \n",
      "    28           -0.515908    \n",
      "    29           -0.512630    \n",
      "    30           -0.469505    \n",
      "    31           -0.468041    \n",
      "    32           -0.465260    \n",
      "    33           0.083368    \n",
      "    34           0.086636    \n",
      "    35           0.094504    \n",
      "    36           0.098071    \n",
      "    37           0.102000    \n",
      "    38           0.105405    \n",
      "    39           0.118506    \n",
      "    40           0.132107    \n",
      "    41           0.135844    \n",
      "    42           0.141424    \n",
      "    43           0.141968    \n",
      "    44           0.151094    \n",
      "    45           0.164608    \n",
      "    46           0.183346    \n",
      "    47           0.192165    \n",
      "    48           0.197974    \n",
      "    49           0.210394    \n",
      "    50           0.214689    \n",
      "    51           0.235579    \n",
      "    52           0.264597    \n",
      "    53           0.266876    \n",
      "    54           0.305648    \n",
      "    55           0.308081    \n",
      "    56           0.314445    \n",
      "    57           0.330600    \n",
      "    58           0.348347    \n",
      "    59           0.352290    \n",
      "    60           0.364345    \n",
      "    61           0.366141    \n",
      "    62           0.372351    \n",
      "    63           0.385285    \n",
      "    64           0.386734    \n",
      "    65           0.391296    \n",
      "    66           0.408463    \n",
      "    67           0.412606    \n",
      "    68           0.425691    \n",
      "    69           0.426830    \n",
      "    70           0.434714    \n",
      "    71           0.435113    \n",
      "    72           0.449093    \n",
      "    73           0.463048    \n",
      "    74           0.477412    \n",
      "    75           0.496912    \n",
      "    76           0.521377    \n",
      "    77           0.524846    \n",
      "    78           0.563887    \n",
      "    79           0.588458    \n",
      "    80           0.606168    \n",
      "    81           0.673019    \n",
      "    82           0.723971    \n",
      "    83           0.857494    \n",
      "    84           0.865912    \n",
      "    85           0.874040    \n",
      "    86           0.881466    \n",
      "    87           0.908050    \n",
      "    88           0.937440    \n",
      "    89           0.949966    \n",
      "    90           0.969763    \n",
      "    91           0.982165    \n",
      "    92           0.990067    \n",
      "    93           1.003487    \n",
      "    94           1.053584    \n",
      "    95           1.063016    \n",
      "    96           1.122976    \n",
      "    97           1.170252    \n",
      "    98           1.177246    \n",
      "    99           1.185683    \n",
      "    100           1.200517    \n",
      "    101           1.237789    \n",
      "    102           1.247161    \n",
      "    103           1.258696    \n",
      "    104           1.338359    \n",
      "    105           1.358929    \n",
      "    106           1.366547    \n",
      "    107           1.370114    \n",
      "    108           1.391231    \n",
      "    109           1.414475    \n",
      "    110           1.444485    \n",
      "    111           1.447113    \n",
      "    112           1.449838    \n",
      "    113           1.488485    \n",
      "    114           1.559505    \n",
      "    115           1.572456    \n",
      "    116           1.613775    \n",
      "    117           1.623771    \n",
      "    118           1.626625    \n",
      "    119           1.663902    \n",
      "    120           1.728452    \n",
      "    121           1.747277    \n",
      "    122           1.748206    \n",
      "    123           1.759718    \n",
      "    124           1.812517    \n",
      "    125           1.824079    \n",
      "    126           1.834434    \n",
      "    127           1.969830    \n",
      "    128           1.985475    \n",
      "    129           2.049193    \n",
      "    130           2.080186    \n",
      "    131           2.105673    \n",
      "    132           2.142182    \n",
      "    133           2.148460    \n",
      "    134           2.205445    \n",
      "    135           2.216342    \n",
      "    136           2.263484    \n",
      "    137           2.296364    \n",
      "    138           2.310081    \n",
      "    139           2.315152    \n",
      "    140           2.368259    \n",
      "    141           2.379667    \n",
      "    142           2.391691    \n",
      "    143           2.464534    \n",
      "    144           2.474703    \n",
      "    145           2.509176    \n",
      "    146           2.558637    \n",
      "    147           2.578388    \n",
      "    148           2.636467    \n",
      "    149           2.676909    \n",
      "    150           2.677003    \n",
      "    151           2.696635    \n",
      "    152           2.699852    \n",
      "    153           2.703423    \n",
      "    154           2.869986    \n",
      "    155           2.989980    \n",
      "    156           2.991264    \n",
      "    157           3.080397    \n",
      "    158           3.117143    \n",
      "    159           3.155506    \n",
      "    160           3.189253    \n",
      "    161           3.337271    \n",
      "    162           3.476196    \n",
      "    163           3.594030    \n",
      "    164           3.594820    \n",
      "    165           4.585873    \n",
      "    166           4.699449    \n",
      "    167           4.703412    \n",
      "    168           4.849669    \n",
      "    169           4.893657    \n",
      "    170           4.926418    \n",
      "    171           4.954166    \n",
      "    172           5.017942    \n",
      " \n",
      "----------------------------------------          \n",
      "        Computing HOMO-LUMO gap...                \n",
      "----------------------------------------          \n",
      " \n",
      "The HOMO is located at MO orbital #32, \n",
      "  with an energy of -0.465260 h. \n",
      " \n",
      "The LUMO is located at MO orbital #33, \n",
      "  with an energy of 0.083368 h. \n",
      " \n",
      "HOMO-LUMO gap: 0.548627 h \n",
      " \n",
      "----------------------------------------          \n",
      "     Computing formation energy...                \n",
      "----------------------------------------          \n",
      " \n",
      "Energy of formation: -2.848031 h \n",
      " \n",
      "----------------------------------------          \n",
      "     Computing mulliken charges...                \n",
      "----------------------------------------          \n",
      " \n",
      "Atom #     Symbol       Mulliken Pop.         Charge        \n",
      "  1           O           8.529146          -0.529146     \n",
      "  2           O           8.529143          -0.529143     \n",
      "  3           O           8.577094          -0.577094     \n",
      "  4           C           5.928020          0.071980     \n",
      "  5           C           5.928024          0.071976     \n",
      "  6           C           6.742850          -0.742850     \n",
      "  7           C           6.742855          -0.742855     \n",
      "  8           C           5.104885          0.895115     \n",
      "  9           H           0.791871          0.208129     \n",
      "  10           H           0.791884          0.208116     \n",
      "  11           H           0.791884          0.208116     \n",
      "  12           H           0.791869          0.208131     \n",
      "  13           H           0.794827          0.205173     \n",
      "  14           H           0.790206          0.209794     \n",
      "  15           H           0.790205          0.209795     \n",
      "  16           H           0.794826          0.205174     \n",
      "  17           H           0.790204          0.209796     \n",
      "  18           H           0.790207          0.209793     \n",
      "\n",
      "----------------------------------------          \n",
      "     Computing multiple moments...                \n",
      "----------------------------------------          \n",
      " \n",
      "Dipole:       X           Y           Z         Tot. (D)        \n",
      "          -0.000043   -0.505723    -0.002137    0.505727     \n",
      "\n",
      "                       ========================================                 \n",
      "                              END RESTRICTED CLOSED-SHELL                       \n",
      "                                HARTREE-FOCK PROPERTIES                         \n",
      "                       ========================================                 \n",
      "--------------------------------------------------------------------------------\n"
     ]
    },
    {
     "data": {
      "text/plain": [
       "Dict{String,Any} with 4 entries:\n",
       "  \"Mulliken Population\" => [8.52915, 8.52914, 8.57709, 5.92802, 5.92802, 6.7428…\n",
       "  \"Formation Energy\"    => -2.84803\n",
       "  \"MO Energies\"         => (energies = [-20.6184 3.30192e-16 … -2.55844e-14 -4.…\n",
       "  \"Dipole\"              => (x = -4.25417e-5, y = -0.505723, z = -0.00213662, mo…"
      ]
     },
     "execution_count": 10,
     "metadata": {},
     "output_type": "execute_result"
    }
   ],
   "source": [
    "\n",
    "rhf_properties = JuliaChem.JCRHF.Properties.run(mol, basis, rhf_energy, keywords[\"prop\"]; output=2)"
   ]
  },
  {
   "cell_type": "markdown",
   "metadata": {},
   "source": [
    "The final step of running JuliaChem.jl is finalizing the JuliaChem.jl runtime. As with initialization, this is basically present only to finalize the MPI and Libint runtimes."
   ]
  },
  {
   "cell_type": "code",
   "execution_count": 11,
   "metadata": {},
   "outputs": [],
   "source": [
    "JuliaChem.finalize()"
   ]
  },
  {
   "cell_type": "markdown",
   "metadata": {},
   "source": [
    "And there we go! We have run a calculation using JuliaChem.jl!"
   ]
  },
  {
   "cell_type": "code",
   "execution_count": null,
   "metadata": {},
   "outputs": [],
   "source": []
  },
  {
   "cell_type": "code",
   "execution_count": null,
   "metadata": {},
   "outputs": [],
   "source": []
  }
 ],
 "metadata": {
  "kernelspec": {
   "display_name": "Julia 1.5.3",
   "language": "julia",
   "name": "julia-1.5"
  },
  "language_info": {
   "file_extension": ".jl",
   "mimetype": "application/julia",
   "name": "julia",
   "version": "1.5.3"
  }
 },
 "nbformat": 4,
 "nbformat_minor": 2
}
